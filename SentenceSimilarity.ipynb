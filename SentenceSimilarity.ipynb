{
  "nbformat": 4,
  "nbformat_minor": 0,
  "metadata": {
    "colab": {
      "provenance": [],
      "authorship_tag": "ABX9TyP7RoTW9XzheGqBjHbSztA6",
      "include_colab_link": true
    },
    "kernelspec": {
      "name": "python3",
      "display_name": "Python 3"
    },
    "language_info": {
      "name": "python"
    }
  },
  "cells": [
    {
      "cell_type": "markdown",
      "metadata": {
        "id": "view-in-github",
        "colab_type": "text"
      },
      "source": [
        "<a href=\"https://colab.research.google.com/github/KiranKumarHA/ReusableComponents/blob/main/SentenceSimilarity.ipynb\" target=\"_parent\"><img src=\"https://colab.research.google.com/assets/colab-badge.svg\" alt=\"Open In Colab\"/></a>"
      ]
    },
    {
      "cell_type": "code",
      "execution_count": null,
      "metadata": {
        "id": "6G-hU1MVRegl"
      },
      "outputs": [],
      "source": [
        "from sklearn.feature_extraction.text import TfidfVectorizer\n",
        "from sklearn.metrics.pairwise import cosine_similarity\n",
        "import pandas as pd"
      ]
    },
    {
      "cell_type": "code",
      "source": [
        "sku_descriptions = [\"Johnnie Walker red label 750 ml\", \"Ciroc Vodka 750 ml\", \"Black & White 500 ml\"]\n",
        "pdf_descriptions = [\"B & W 500 ml\"]"
      ],
      "metadata": {
        "id": "SOshLGg6Rnqy"
      },
      "execution_count": null,
      "outputs": []
    },
    {
      "cell_type": "code",
      "source": [
        "vectorizer = TfidfVectorizer()\n",
        "sku_tfidf = vectorizer.fit_transform(sku_descriptions)\n",
        "pdf_tfidf = vectorizer.transform(pdf_descriptions)"
      ],
      "metadata": {
        "id": "MLa9dr_3Rxd-"
      },
      "execution_count": null,
      "outputs": []
    },
    {
      "cell_type": "code",
      "source": [
        "print(sku_tfidf)"
      ],
      "metadata": {
        "colab": {
          "base_uri": "https://localhost:8080/"
        },
        "id": "YPUT11dgdRHB",
        "outputId": "07d86277-6a02-4165-e82f-cdc2eb7cc44c"
      },
      "execution_count": null,
      "outputs": [
        {
          "output_type": "stream",
          "name": "stdout",
          "text": [
            "  (0, 4)\t0.450504072643198\n",
            "  (0, 9)\t0.450504072643198\n",
            "  (0, 7)\t0.450504072643198\n",
            "  (0, 5)\t0.450504072643198\n",
            "  (0, 1)\t0.3426199591918006\n",
            "  (0, 6)\t0.2660749625405929\n",
            "  (1, 1)\t0.444514311537431\n",
            "  (1, 6)\t0.34520501686496574\n",
            "  (1, 3)\t0.5844829010200651\n",
            "  (1, 8)\t0.5844829010200651\n",
            "  (2, 6)\t0.3227445421804912\n",
            "  (2, 2)\t0.546454011634009\n",
            "  (2, 10)\t0.546454011634009\n",
            "  (2, 0)\t0.546454011634009\n"
          ]
        }
      ]
    },
    {
      "cell_type": "code",
      "source": [
        "(similarity_matrix = cosine_similarity(sku_tfidf, pdf_tfidf)"
      ],
      "metadata": {
        "id": "FMFW3GdPR0hr"
      },
      "execution_count": null,
      "outputs": []
    },
    {
      "cell_type": "code",
      "source": [
        "similarity_df = pd.DataFrame(similarity_matrix, index=sku_descriptions, columns=pdf_descriptions)\n",
        "print(similarity_df)"
      ],
      "metadata": {
        "colab": {
          "base_uri": "https://localhost:8080/"
        },
        "id": "oYnfVFzfR5wR",
        "outputId": "b3a67dff-4c4c-453f-89a5-0ed7768372fb"
      },
      "execution_count": null,
      "outputs": [
        {
          "output_type": "stream",
          "name": "stdout",
          "text": [
            "                                 B & W 500 ml\n",
            "Johnnie Walker red label 750 ml      0.135310\n",
            "Ciroc Vodka 750 ml                   0.175551\n",
            "Black & White 500 ml                 0.634646\n"
          ]
        }
      ]
    },
    {
      "cell_type": "code",
      "source": [
        "from sentence_transformers import SentenceTransformer\n",
        "from sklearn.metrics.pairwise import cosine_similarity\n",
        "import pandas as pd"
      ],
      "metadata": {
        "id": "ELKtfbKhR8kG"
      },
      "execution_count": null,
      "outputs": []
    },
    {
      "cell_type": "code",
      "source": [
        "model = SentenceTransformer('all-MiniLM-L6-v2')"
      ],
      "metadata": {
        "id": "ElF8Be9VTvrr"
      },
      "execution_count": null,
      "outputs": []
    },
    {
      "cell_type": "code",
      "source": [
        "sku_embeddings = model.encode(sku_descriptions)\n",
        "pdf_embeddings = model.encode(pdf_descriptions)"
      ],
      "metadata": {
        "id": "8K-w8rNGTvo8"
      },
      "execution_count": null,
      "outputs": []
    },
    {
      "cell_type": "code",
      "source": [
        "sku_embeddings"
      ],
      "metadata": {
        "colab": {
          "base_uri": "https://localhost:8080/"
        },
        "id": "Oeqlnn_rdj6-",
        "outputId": "017000f5-337c-4358-ad0f-0821cdc831c3"
      },
      "execution_count": null,
      "outputs": [
        {
          "output_type": "execute_result",
          "data": {
            "text/plain": [
              "array([[-0.07092087,  0.01066365, -0.10878955, ..., -0.09800896,\n",
              "        -0.00233103, -0.05245576],\n",
              "       [-0.08760896, -0.04437743, -0.11319928, ..., -0.07565752,\n",
              "        -0.01320604, -0.0094836 ],\n",
              "       [-0.03832261,  0.04002707, -0.0540035 , ..., -0.07400729,\n",
              "        -0.03888207, -0.00688561]], dtype=float32)"
            ]
          },
          "metadata": {},
          "execution_count": 40
        }
      ]
    },
    {
      "cell_type": "code",
      "source": [
        "similarity_matrix = cosine_similarity(sku_embeddings, pdf_embeddings)"
      ],
      "metadata": {
        "id": "BRcIyRIgTvmf"
      },
      "execution_count": null,
      "outputs": []
    },
    {
      "cell_type": "code",
      "source": [
        "similarity_df = pd.DataFrame(similarity_matrix, index=sku_descriptions, columns=pdf_descriptions)\n",
        "print(pd.DataFrame(similarity_df))"
      ],
      "metadata": {
        "colab": {
          "base_uri": "https://localhost:8080/"
        },
        "id": "oxBjN-3nTvjw",
        "outputId": "4ee2f802-fec6-41a1-fbcc-fa9c1de9c211"
      },
      "execution_count": null,
      "outputs": [
        {
          "output_type": "stream",
          "name": "stdout",
          "text": [
            "                                 B & W 500 ml\n",
            "Johnnie Walker red label 750 ml      0.522052\n",
            "Ciroc Vodka 750 ml                   0.498567\n",
            "Black & White 500 ml                 0.777918\n"
          ]
        }
      ]
    },
    {
      "cell_type": "code",
      "source": [],
      "metadata": {
        "id": "fgyWRESvTvhJ"
      },
      "execution_count": null,
      "outputs": []
    },
    {
      "cell_type": "code",
      "source": [],
      "metadata": {
        "id": "k0OZXYQ-Tvb9"
      },
      "execution_count": null,
      "outputs": []
    },
    {
      "cell_type": "code",
      "source": [],
      "metadata": {
        "id": "WZWjl2R1TvNV"
      },
      "execution_count": null,
      "outputs": []
    }
  ]
}